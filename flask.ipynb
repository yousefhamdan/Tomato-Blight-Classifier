{
 "cells": [
  {
   "cell_type": "code",
   "execution_count": 25,
   "metadata": {},
   "outputs": [],
   "source": [
    "import os\n",
    "import numpy as np\n",
    "import pandas as pd\n",
    "from PIL import Image\n",
    "import tensorflow as tf\n",
    "from tensorflow.keras.models import load_model\n",
    "from tensorflow.keras.preprocessing import image\n",
    "from tensorflow.keras.preprocessing.image import load_img\n",
    "from tensorflow.keras.preprocessing.image import img_to_array\n",
    "from flask import Flask, render_template, request\n"
   ]
  },
  {
   "cell_type": "code",
   "execution_count": 26,
   "metadata": {},
   "outputs": [],
   "source": [
    "app = Flask(__name__)"
   ]
  },
  {
   "cell_type": "code",
   "execution_count": 27,
   "metadata": {},
   "outputs": [],
   "source": [
    "def get_model():\n",
    "    global model\n",
    "    model = load_model('model-017.model')"
   ]
  },
  {
   "cell_type": "code",
   "execution_count": 28,
   "metadata": {},
   "outputs": [],
   "source": [
    "def load_image(img_path):\n",
    "\n",
    "    img = image.load_img(img_path, target_size=(255, 255))\n",
    "    img_tensor = image.img_to_array(img)                    # (height, width, channels)\n",
    "    img_tensor = np.expand_dims(img_tensor, axis=0)         # (1, height, width, channels), add a dimension because the model expects this shape: (batch_size, height, width, channels)\n",
    "    img_tensor /= 255.                                      # imshow expects values in the range [0, 1]\n",
    "\n",
    "    return img_tensor"
   ]
  },
  {
   "cell_type": "code",
   "execution_count": 29,
   "metadata": {},
   "outputs": [],
   "source": [
    "def prediction(img_path):\n",
    "    new_image = load_image(img_path)\n",
    "    \n",
    "    pred = model.predict(new_image)\n",
    "    \n",
    "    labels_dict = {  \n",
    "        0: 'Tomato_Early_blight',\n",
    "        1: 'Tomato_Late_blight',\n",
    "        2: 'Tomato_healthy',\n",
    "        \n",
    "        }\n",
    "\n",
    "    label = np.argmax(pred, axis=1)[0]\n",
    "    \n",
    "    return labels_dict[label]"
   ]
  },
  {
   "cell_type": "code",
   "execution_count": 30,
   "metadata": {},
   "outputs": [],
   "source": [
    "get_model()"
   ]
  },
  {
   "cell_type": "code",
   "execution_count": 31,
   "metadata": {},
   "outputs": [],
   "source": [
    "@app.route(\"/\", methods=['GET', 'POST'])\n",
    "def home():\n",
    "\n",
    "    return render_template('home.html')\n",
    "\n",
    "@app.route(\"/predict\", methods = ['GET','POST'])\n",
    "def predict():\n",
    "    \n",
    "    if request.method == 'POST':\n",
    "        \n",
    "        file = request.files['file']\n",
    "        filename = file.filename\n",
    "        file_path = os.path.join(r'D:/my first project/static', filename)                       \n",
    "        file.save(file_path)\n",
    "        print(filename)\n",
    "        product = prediction(file_path)\n",
    "        print(product)\n",
    "        \n",
    "    return render_template('predict.html', product = product, user_image = file_path)    "
   ]
  },
  {
   "cell_type": "code",
   "execution_count": 32,
   "metadata": {},
   "outputs": [
    {
     "name": "stdout",
     "output_type": "stream",
     "text": [
      " * Serving Flask app '__main__' (lazy loading)\n",
      " * Environment: production\n",
      "\u001b[31m   WARNING: This is a development server. Do not use it in a production deployment.\u001b[0m\n",
      "\u001b[2m   Use a production WSGI server instead.\u001b[0m\n",
      " * Debug mode: off\n"
     ]
    },
    {
     "name": "stderr",
     "output_type": "stream",
     "text": [
      " * Running on http://127.0.0.1:5000 (Press CTRL+C to quit)\n",
      "127.0.0.1 - - [25/Jun/2022 17:49:44] \"POST /predict HTTP/1.1\" 200 -\n"
     ]
    },
    {
     "name": "stdout",
     "output_type": "stream",
     "text": [
      "0ae44a6c-1213-4312-a11b-c7c5d4e585d0___RS_Erly.B 9442.JPG\n",
      "Tomato_Early_blight\n"
     ]
    },
    {
     "name": "stderr",
     "output_type": "stream",
     "text": [
      "127.0.0.1 - - [25/Jun/2022 17:49:45] \"GET / HTTP/1.1\" 200 -\n",
      "127.0.0.1 - - [25/Jun/2022 17:49:46] \"GET / HTTP/1.1\" 200 -\n",
      "127.0.0.1 - - [25/Jun/2022 17:49:46] \"GET / HTTP/1.1\" 200 -\n",
      "127.0.0.1 - - [25/Jun/2022 17:49:46] \"GET / HTTP/1.1\" 200 -\n",
      "127.0.0.1 - - [25/Jun/2022 17:49:48] \"POST /predict HTTP/1.1\" 200 -\n"
     ]
    },
    {
     "name": "stdout",
     "output_type": "stream",
     "text": [
      "0a2726e0-3358-4a46-b6dc-563a5a9f2bdf___RS_Erly.B 7860.JPG\n",
      "Tomato_Early_blight\n"
     ]
    }
   ],
   "source": [
    "if __name__ == \"__main__\":\n",
    "    app.run()"
   ]
  },
  {
   "cell_type": "code",
   "execution_count": null,
   "metadata": {},
   "outputs": [],
   "source": []
  }
 ],
 "metadata": {
  "kernelspec": {
   "display_name": "Python 3.8.6 64-bit",
   "language": "python",
   "name": "python3"
  },
  "language_info": {
   "codemirror_mode": {
    "name": "ipython",
    "version": 3
   },
   "file_extension": ".py",
   "mimetype": "text/x-python",
   "name": "python",
   "nbconvert_exporter": "python",
   "pygments_lexer": "ipython3",
   "version": "3.8.6"
  },
  "orig_nbformat": 4,
  "vscode": {
   "interpreter": {
    "hash": "6a926afa313b26ae1264fdcf81c726a97e69f6ba2ba780f6aa901948710f8d6e"
   }
  }
 },
 "nbformat": 4,
 "nbformat_minor": 2
}
